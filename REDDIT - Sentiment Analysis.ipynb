{
 "cells": [
  {
   "cell_type": "code",
   "execution_count": 1,
   "id": "56c41bde",
   "metadata": {},
   "outputs": [],
   "source": [
    "# Let's start with necessary imports  \n",
    "from IPython import display\n",
    "import math\n",
    "from pprint import pprint\n",
    "import pandas as pd\n",
    "import numpy as np\n",
    "import nltk\n",
    "import matplotlib.pyplot as plt\n",
    "import seaborn as sns\n",
    "sns.set(style='darkgrid', context='talk', palette='Dark2')"
   ]
  },
  {
   "cell_type": "code",
   "execution_count": 2,
   "id": "a2f75f91",
   "metadata": {},
   "outputs": [
    {
     "name": "stdout",
     "output_type": "stream",
     "text": [
      "Collecting praw\n",
      "  Downloading praw-7.7.1-py3-none-any.whl (191 kB)\n",
      "     -------------------------------------- 191.0/191.0 kB 2.3 MB/s eta 0:00:00\n",
      "Requirement already satisfied: websocket-client>=0.54.0 in c:\\users\\rajes\\onedrive\\documents\\python scripts\\lib\\site-packages (from praw) (0.58.0)\n",
      "Collecting update-checker>=0.18\n",
      "  Downloading update_checker-0.18.0-py3-none-any.whl (7.0 kB)\n",
      "Collecting prawcore<3,>=2.1\n",
      "  Downloading prawcore-2.4.0-py3-none-any.whl (17 kB)\n",
      "Requirement already satisfied: requests<3.0,>=2.6.0 in c:\\users\\rajes\\onedrive\\documents\\python scripts\\lib\\site-packages (from prawcore<3,>=2.1->praw) (2.28.1)\n",
      "Requirement already satisfied: six in c:\\users\\rajes\\onedrive\\documents\\python scripts\\lib\\site-packages (from websocket-client>=0.54.0->praw) (1.16.0)\n",
      "Requirement already satisfied: charset-normalizer<3,>=2 in c:\\users\\rajes\\onedrive\\documents\\python scripts\\lib\\site-packages (from requests<3.0,>=2.6.0->prawcore<3,>=2.1->praw) (2.0.4)\n",
      "Requirement already satisfied: urllib3<1.27,>=1.21.1 in c:\\users\\rajes\\onedrive\\documents\\python scripts\\lib\\site-packages (from requests<3.0,>=2.6.0->prawcore<3,>=2.1->praw) (1.26.14)\n",
      "Requirement already satisfied: certifi>=2017.4.17 in c:\\users\\rajes\\onedrive\\documents\\python scripts\\lib\\site-packages (from requests<3.0,>=2.6.0->prawcore<3,>=2.1->praw) (2022.12.7)\n",
      "Requirement already satisfied: idna<4,>=2.5 in c:\\users\\rajes\\onedrive\\documents\\python scripts\\lib\\site-packages (from requests<3.0,>=2.6.0->prawcore<3,>=2.1->praw) (3.4)\n",
      "Installing collected packages: update-checker, prawcore, praw\n",
      "Successfully installed praw-7.7.1 prawcore-2.4.0 update-checker-0.18.0\n"
     ]
    }
   ],
   "source": [
    "!pip install praw"
   ]
  },
  {
   "cell_type": "code",
   "execution_count": 3,
   "id": "b57c9823",
   "metadata": {},
   "outputs": [],
   "source": [
    "import praw\n",
    "\n",
    "reddit = praw.Reddit(client_id='-ykkrlffcKEawgHLePHDDw',\n",
    "                     client_secret='HDRFGxYd0trAZ0l0Z6EUYuylTp-r3w',\n",
    "                     user_agent='No_Ladder4585')"
   ]
  },
  {
   "cell_type": "code",
   "execution_count": 4,
   "id": "cbe25ebb",
   "metadata": {},
   "outputs": [],
   "source": [
    "# Let's define a set for our headlines so we don't \n",
    "# get duplicates when running multiple times:\n",
    "headlines = set()"
   ]
  },
  {
   "cell_type": "code",
   "execution_count": 5,
   "id": "e2956685",
   "metadata": {},
   "outputs": [
    {
     "name": "stdout",
     "output_type": "stream",
     "text": [
      "986\n"
     ]
    }
   ],
   "source": [
    "# Now, we can iterate through the /r/politics subreddit using the API client:\n",
    "# https://www.reddit.com/r/politics/\n",
    "for submission in reddit.subreddit('politics').new(limit=None):\n",
    "    headlines.add(submission.title)\n",
    "    display.clear_output()\n",
    "    print(len(headlines))"
   ]
  },
  {
   "cell_type": "code",
   "execution_count": 6,
   "id": "d1fbb5d2",
   "metadata": {},
   "outputs": [
    {
     "data": {
      "text/plain": [
       "[\"Amazon argues that national labor board is unconstitutional, joining SpaceX and Trader Joe's\",\n",
       " 'Cori Bush trailing Democratic primary challenger by 22 points: Poll',\n",
       " 'Democrat Suozzi wins special election to replace Santos in New York',\n",
       " 'Trump misses Supreme Court deadline to fight civil immunity from Jan. 6 lawsuits',\n",
       " 'Here’s how much Utah’s schools would lose in a new tax cut. If lawmakers approve another tax cut in 2024, it will mean the Legislature will have cut $640 million from funding for public education and social services in recent years.']"
      ]
     },
     "execution_count": 6,
     "metadata": {},
     "output_type": "execute_result"
    }
   ],
   "source": [
    "#headlines\n",
    "list(headlines)[:5]"
   ]
  },
  {
   "cell_type": "code",
   "execution_count": 7,
   "id": "819e2a49",
   "metadata": {},
   "outputs": [
    {
     "name": "stdout",
     "output_type": "stream",
     "text": [
      "                                               title  score       id  \\\n",
      "0                        [D] Simple Questions Thread      8  1aob7zi   \n",
      "1  [R] In Search of Needles in a 10M Haystack: Re...     78  1autvwq   \n",
      "2  For anyone who’s a tech lead, what is your act...     22  1auyt1n   \n",
      "3     MoE - I'm a bit confused about 'Experts' [D]\\n     37  1aurrxi   \n",
      "4  [D] Will mathematicians have the upper hand in...      4  1av5gwy   \n",
      "5                              [D] AI/ML Internships    154  1audi2u   \n",
      "6  [D] A Visual Guide to Mamba and State Space Mo...     11  1aupbct   \n",
      "7                   [R] Representation Orthogonality      2  1av2dyh   \n",
      "8      [P] Lipschitz continuity and convex functions      5  1auv1pp   \n",
      "9  [D] Seeking Guidance for axolotl config: Fine-...      2  1auzq5u   \n",
      "\n",
      "         subreddit                                                url  \\\n",
      "0  MachineLearning  https://www.reddit.com/r/MachineLearning/comme...   \n",
      "1  MachineLearning  https://www.reddit.com/r/MachineLearning/comme...   \n",
      "2  MachineLearning  https://www.reddit.com/r/MachineLearning/comme...   \n",
      "3  MachineLearning  https://www.reddit.com/r/MachineLearning/comme...   \n",
      "4  MachineLearning  https://www.reddit.com/r/MachineLearning/comme...   \n",
      "5  MachineLearning  https://www.reddit.com/r/MachineLearning/comme...   \n",
      "6  MachineLearning  https://www.reddit.com/r/MachineLearning/comme...   \n",
      "7  MachineLearning  https://www.reddit.com/r/MachineLearning/comme...   \n",
      "8  MachineLearning  https://www.reddit.com/r/MachineLearning/comme...   \n",
      "9  MachineLearning  https://www.reddit.com/r/MachineLearning/comme...   \n",
      "\n",
      "   num_comments                                               body  \\\n",
      "0            25  Please post your questions here instead of cre...   \n",
      "1            18  Paper: [https://arxiv.org/abs/2402.10790](http...   \n",
      "2            11  \\nI’ve been made tech lead for a big project  ...   \n",
      "3            16  \\nI've been doing some reading about Mixture o...   \n",
      "4             5  It seems that in various corners I've seen sim...   \n",
      "5            78  Why is it so hard to land internships in AI/ML...   \n",
      "6             0  Hi all! To make State Space Models (and Mamba)...   \n",
      "7             0  In the representation theory literature, is it...   \n",
      "8             7  I have this:\\n\\nSigma: R->R is a non-decreasin...   \n",
      "9             0  Greetings, I am quite new to model fine-tuning...   \n",
      "\n",
      "        created  \n",
      "0  1.707667e+09  \n",
      "1  1.708366e+09  \n",
      "2  1.708377e+09  \n",
      "3  1.708361e+09  \n",
      "4  1.708394e+09  \n",
      "5  1.708314e+09  \n",
      "6  1.708355e+09  \n",
      "7  1.708386e+09  \n",
      "8  1.708368e+09  \n",
      "9  1.708379e+09  \n"
     ]
    }
   ],
   "source": [
    "## for testing purpose \n",
    "import pandas as pd\n",
    "posts = []\n",
    "ml_subreddit = reddit.subreddit('MachineLearning')\n",
    "\n",
    "for post in ml_subreddit.hot(limit=10):\n",
    "    posts.append([post.title, post.score, post.id, post.subreddit, post.url, post.num_comments, post.selftext, post.created])\n",
    "\n",
    "posts = pd.DataFrame(posts,columns=['title', 'score', 'id', 'subreddit', 'url', 'num_comments', 'body', 'created'])\n",
    "print(posts)"
   ]
  },
  {
   "cell_type": "code",
   "execution_count": 8,
   "id": "40d9516c",
   "metadata": {},
   "outputs": [
    {
     "name": "stderr",
     "output_type": "stream",
     "text": [
      "[nltk_data] Downloading package vader_lexicon to\n",
      "[nltk_data]     C:\\Users\\rajes\\AppData\\Roaming\\nltk_data...\n"
     ]
    },
    {
     "data": {
      "text/plain": [
       "True"
      ]
     },
     "execution_count": 8,
     "metadata": {},
     "output_type": "execute_result"
    }
   ],
   "source": [
    "import nltk\n",
    "nltk.download('vader_lexicon')"
   ]
  },
  {
   "cell_type": "code",
   "execution_count": 9,
   "id": "be4181f8",
   "metadata": {},
   "outputs": [
    {
     "name": "stdout",
     "output_type": "stream",
     "text": [
      "[{'compound': -0.2263,\n",
      "  'headline': 'Amazon argues that national labor board is unconstitutional, joining SpaceX and '\n",
      "              \"Trader Joe's\",\n",
      "  'neg': 0.17,\n",
      "  'neu': 0.719,\n",
      "  'pos': 0.111},\n",
      " {'compound': 0.128,\n",
      "  'headline': 'Cori Bush trailing Democratic primary challenger by 22 points: Poll',\n",
      "  'neg': 0.0,\n",
      "  'neu': 0.857,\n",
      "  'pos': 0.143},\n",
      " {'compound': 0.7506,\n",
      "  'headline': 'Democrat Suozzi wins special election to replace Santos in New York',\n",
      "  'neg': 0.0,\n",
      "  'neu': 0.584,\n",
      "  'pos': 0.416},\n",
      " {'compound': -0.128,\n",
      "  'headline': 'Trump misses Supreme Court deadline to fight civil immunity from Jan. 6 lawsuits',\n",
      "  'neg': 0.345,\n",
      "  'neu': 0.452,\n",
      "  'pos': 0.203},\n",
      " {'compound': -0.7906,\n",
      "  'headline': 'Here’s how much Utah’s schools would lose in a new tax cut. If lawmakers approve '\n",
      "              'another tax cut in 2024, it will mean the Legislature will have cut $640 million '\n",
      "              'from funding for public education and social services in recent years.',\n",
      "  'neg': 0.2,\n",
      "  'neu': 0.8,\n",
      "  'pos': 0.0}]\n"
     ]
    }
   ],
   "source": [
    "from nltk.sentiment.vader import SentimentIntensityAnalyzer as SIA\n",
    "\n",
    "# creating a Sentiment Intensity Analyzer (SIA) object\n",
    "sia = SIA()\n",
    "results = []\n",
    "\n",
    "# run a loop and find the polarity_scores for each headline\n",
    "for line in headlines:\n",
    "    pol_score = sia.polarity_scores(line)\n",
    "    pol_score['headline'] = line\n",
    "    results.append(pol_score)\n",
    "\n",
    "pprint(results[:5], width=100)  #width restricts line width"
   ]
  },
  {
   "cell_type": "code",
   "execution_count": 10,
   "id": "0f820b77",
   "metadata": {},
   "outputs": [
    {
     "data": {
      "text/html": [
       "<div>\n",
       "<style scoped>\n",
       "    .dataframe tbody tr th:only-of-type {\n",
       "        vertical-align: middle;\n",
       "    }\n",
       "\n",
       "    .dataframe tbody tr th {\n",
       "        vertical-align: top;\n",
       "    }\n",
       "\n",
       "    .dataframe thead th {\n",
       "        text-align: right;\n",
       "    }\n",
       "</style>\n",
       "<table border=\"1\" class=\"dataframe\">\n",
       "  <thead>\n",
       "    <tr style=\"text-align: right;\">\n",
       "      <th></th>\n",
       "      <th>neg</th>\n",
       "      <th>neu</th>\n",
       "      <th>pos</th>\n",
       "      <th>compound</th>\n",
       "      <th>headline</th>\n",
       "    </tr>\n",
       "  </thead>\n",
       "  <tbody>\n",
       "    <tr>\n",
       "      <th>0</th>\n",
       "      <td>0.170</td>\n",
       "      <td>0.719</td>\n",
       "      <td>0.111</td>\n",
       "      <td>-0.2263</td>\n",
       "      <td>Amazon argues that national labor board is unc...</td>\n",
       "    </tr>\n",
       "    <tr>\n",
       "      <th>1</th>\n",
       "      <td>0.000</td>\n",
       "      <td>0.857</td>\n",
       "      <td>0.143</td>\n",
       "      <td>0.1280</td>\n",
       "      <td>Cori Bush trailing Democratic primary challeng...</td>\n",
       "    </tr>\n",
       "    <tr>\n",
       "      <th>2</th>\n",
       "      <td>0.000</td>\n",
       "      <td>0.584</td>\n",
       "      <td>0.416</td>\n",
       "      <td>0.7506</td>\n",
       "      <td>Democrat Suozzi wins special election to repla...</td>\n",
       "    </tr>\n",
       "    <tr>\n",
       "      <th>3</th>\n",
       "      <td>0.345</td>\n",
       "      <td>0.452</td>\n",
       "      <td>0.203</td>\n",
       "      <td>-0.1280</td>\n",
       "      <td>Trump misses Supreme Court deadline to fight c...</td>\n",
       "    </tr>\n",
       "    <tr>\n",
       "      <th>4</th>\n",
       "      <td>0.200</td>\n",
       "      <td>0.800</td>\n",
       "      <td>0.000</td>\n",
       "      <td>-0.7906</td>\n",
       "      <td>Here’s how much Utah’s schools would lose in a...</td>\n",
       "    </tr>\n",
       "  </tbody>\n",
       "</table>\n",
       "</div>"
      ],
      "text/plain": [
       "     neg    neu    pos  compound  \\\n",
       "0  0.170  0.719  0.111   -0.2263   \n",
       "1  0.000  0.857  0.143    0.1280   \n",
       "2  0.000  0.584  0.416    0.7506   \n",
       "3  0.345  0.452  0.203   -0.1280   \n",
       "4  0.200  0.800  0.000   -0.7906   \n",
       "\n",
       "                                            headline  \n",
       "0  Amazon argues that national labor board is unc...  \n",
       "1  Cori Bush trailing Democratic primary challeng...  \n",
       "2  Democrat Suozzi wins special election to repla...  \n",
       "3  Trump misses Supreme Court deadline to fight c...  \n",
       "4  Here’s how much Utah’s schools would lose in a...  "
      ]
     },
     "execution_count": 10,
     "metadata": {},
     "output_type": "execute_result"
    }
   ],
   "source": [
    "df = pd.DataFrame.from_records(results)\n",
    "df.head()"
   ]
  },
  {
   "cell_type": "code",
   "execution_count": 11,
   "id": "c4a46140",
   "metadata": {},
   "outputs": [
    {
     "data": {
      "text/html": [
       "<div>\n",
       "<style scoped>\n",
       "    .dataframe tbody tr th:only-of-type {\n",
       "        vertical-align: middle;\n",
       "    }\n",
       "\n",
       "    .dataframe tbody tr th {\n",
       "        vertical-align: top;\n",
       "    }\n",
       "\n",
       "    .dataframe thead th {\n",
       "        text-align: right;\n",
       "    }\n",
       "</style>\n",
       "<table border=\"1\" class=\"dataframe\">\n",
       "  <thead>\n",
       "    <tr style=\"text-align: right;\">\n",
       "      <th></th>\n",
       "      <th>neg</th>\n",
       "      <th>neu</th>\n",
       "      <th>pos</th>\n",
       "      <th>compound</th>\n",
       "      <th>headline</th>\n",
       "      <th>label</th>\n",
       "    </tr>\n",
       "  </thead>\n",
       "  <tbody>\n",
       "    <tr>\n",
       "      <th>0</th>\n",
       "      <td>0.170</td>\n",
       "      <td>0.719</td>\n",
       "      <td>0.111</td>\n",
       "      <td>-0.2263</td>\n",
       "      <td>Amazon argues that national labor board is unc...</td>\n",
       "      <td>-1</td>\n",
       "    </tr>\n",
       "    <tr>\n",
       "      <th>1</th>\n",
       "      <td>0.000</td>\n",
       "      <td>0.857</td>\n",
       "      <td>0.143</td>\n",
       "      <td>0.1280</td>\n",
       "      <td>Cori Bush trailing Democratic primary challeng...</td>\n",
       "      <td>0</td>\n",
       "    </tr>\n",
       "    <tr>\n",
       "      <th>2</th>\n",
       "      <td>0.000</td>\n",
       "      <td>0.584</td>\n",
       "      <td>0.416</td>\n",
       "      <td>0.7506</td>\n",
       "      <td>Democrat Suozzi wins special election to repla...</td>\n",
       "      <td>1</td>\n",
       "    </tr>\n",
       "    <tr>\n",
       "      <th>3</th>\n",
       "      <td>0.345</td>\n",
       "      <td>0.452</td>\n",
       "      <td>0.203</td>\n",
       "      <td>-0.1280</td>\n",
       "      <td>Trump misses Supreme Court deadline to fight c...</td>\n",
       "      <td>0</td>\n",
       "    </tr>\n",
       "    <tr>\n",
       "      <th>4</th>\n",
       "      <td>0.200</td>\n",
       "      <td>0.800</td>\n",
       "      <td>0.000</td>\n",
       "      <td>-0.7906</td>\n",
       "      <td>Here’s how much Utah’s schools would lose in a...</td>\n",
       "      <td>-1</td>\n",
       "    </tr>\n",
       "  </tbody>\n",
       "</table>\n",
       "</div>"
      ],
      "text/plain": [
       "     neg    neu    pos  compound  \\\n",
       "0  0.170  0.719  0.111   -0.2263   \n",
       "1  0.000  0.857  0.143    0.1280   \n",
       "2  0.000  0.584  0.416    0.7506   \n",
       "3  0.345  0.452  0.203   -0.1280   \n",
       "4  0.200  0.800  0.000   -0.7906   \n",
       "\n",
       "                                            headline  label  \n",
       "0  Amazon argues that national labor board is unc...     -1  \n",
       "1  Cori Bush trailing Democratic primary challeng...      0  \n",
       "2  Democrat Suozzi wins special election to repla...      1  \n",
       "3  Trump misses Supreme Court deadline to fight c...      0  \n",
       "4  Here’s how much Utah’s schools would lose in a...     -1  "
      ]
     },
     "execution_count": 11,
     "metadata": {},
     "output_type": "execute_result"
    }
   ],
   "source": [
    "# your code for finding posts with a compound value greater than 0.2 as positive \n",
    "# and less than -0.2 as negative.\n",
    "\n",
    "df['label'] = 0\n",
    "\n",
    "df.loc[df['compound'] > 0.2, 'label'] = 1\n",
    "\n",
    "df.loc[df['compound'] < -0.2, 'label'] = -1\n",
    "\n",
    "df.head()"
   ]
  },
  {
   "cell_type": "code",
   "execution_count": 12,
   "id": "bc3363ae",
   "metadata": {},
   "outputs": [
    {
     "name": "stdout",
     "output_type": "stream",
     "text": [
      "Positive headlines:\n",
      "\n",
      "['Democrat Suozzi wins special election to replace Santos in New York',\n",
      " 'Trump May Endorse a Tom Petty Cover Artist to Co-Chair the RNC – The former '\n",
      " 'president may move to help get Lara Trump, his daughter-in-law, elected '\n",
      " 'co-chair of the Republican National Committee',\n",
      " 'Democrats gain seat in U.S. House as Tom Suozzi wins election to replace '\n",
      " 'George Santos',\n",
      " 'Biden Must Win. But How Can He?',\n",
      " 'GoFundMe launched to help pay Trump’s legal fees']\n",
      "\n",
      "Negative headlines:\n",
      "\n",
      "['Amazon argues that national labor board is unconstitutional, joining SpaceX '\n",
      " \"and Trader Joe's\",\n",
      " 'Here’s how much Utah’s schools would lose in a new tax cut. If lawmakers '\n",
      " 'approve another tax cut in 2024, it will mean the Legislature will have cut '\n",
      " '$640 million from funding for public education and social services in recent '\n",
      " 'years.',\n",
      " 'Trump Claims His Bizarre Haley-Pelosi Mix-Up Was Deliberate',\n",
      " 'Privacy Advocates Alarmed as House Resumes Spying Powers Fight',\n",
      " 'Navalny’s death fails to move the dial for Republican Senator J.D. Vance']\n"
     ]
    }
   ],
   "source": [
    "# Dataset Info and Statistics\n",
    "# Let's first take a peak at a few positive and negative headlines:\n",
    "print(\"Positive headlines:\\n\")\n",
    "pprint(list(df[df['label']==1].headline)[:5])\n",
    "\n",
    "print(\"\\nNegative headlines:\\n\")\n",
    "pprint(list(df[df['label']== -1].headline)[:5])"
   ]
  },
  {
   "cell_type": "code",
   "execution_count": 13,
   "id": "ea974b77",
   "metadata": {},
   "outputs": [
    {
     "data": {
      "image/png": "[encoded data removed]",
      "text/plain": [
       "<Figure size 400x400 with 1 Axes>"
      ]
     },
     "metadata": {},
     "output_type": "display_data"
    }
   ],
   "source": [
    "# let's plot a bar chart showing Positive, Neutral and Negative headlines :\n",
    "\n",
    "fig, ax = plt.subplots(figsize=(4, 4))\n",
    "\n",
    "counts = df.label.value_counts(normalize=True) * 100\n",
    "\n",
    "sns.barplot(x=counts.index, y=counts, ax=ax)\n",
    "\n",
    "ax.set_xticklabels(['Negative', 'Neutral', 'Positive'])\n",
    "ax.set_ylabel(\"Percentage\")\n",
    "\n",
    "plt.show()"
   ]
  },
  {
   "cell_type": "code",
   "execution_count": null,
   "id": "6f14a99b",
   "metadata": {},
   "outputs": [],
   "source": []
  }
 ],
 "metadata": {
  "kernelspec": {
   "display_name": "Python 3 (ipykernel)",
   "language": "python",
   "name": "python3"
  },
  "language_info": {
   "codemirror_mode": {
    "name": "ipython",
    "version": 3
   },
   "file_extension": ".py",
   "mimetype": "text/x-python",
   "name": "python",
   "nbconvert_exporter": "python",
   "pygments_lexer": "ipython3",
   "version": "3.10.9"
  }
 },
 "nbformat": 4,
 "nbformat_minor": 5
}
