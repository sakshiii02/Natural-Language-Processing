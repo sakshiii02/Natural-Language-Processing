{
 "cells": [
  {
   "cell_type": "markdown",
   "id": "b615ad1e",
   "metadata": {},
   "source": [
    "## Word Tokenizer"
   ]
  },
  {
   "cell_type": "code",
   "execution_count": 1,
   "id": "3b614fd5",
   "metadata": {},
   "outputs": [
    {
     "name": "stdout",
     "output_type": "stream",
     "text": [
      "['ChatGPT', 'is', 'amazing', '!']\n"
     ]
    }
   ],
   "source": [
    "from nltk.tokenize import word_tokenize\n",
    "\n",
    "sentence = \"ChatGPTis amazing!\"\n",
    "tokens = word_tokenize(sentence)\n",
    "print(tokens)"
   ]
  },
  {
   "cell_type": "markdown",
   "id": "8a225eb1",
   "metadata": {},
   "source": [
    "## Sentence Tokenization"
   ]
  },
  {
   "cell_type": "code",
   "execution_count": 3,
   "id": "bb4486ea",
   "metadata": {},
   "outputs": [
    {
     "name": "stdout",
     "output_type": "stream",
     "text": [
      "['Hello.', 'How are you?']\n"
     ]
    }
   ],
   "source": [
    "from nltk.tokenize import sent_tokenize\n",
    "\n",
    "text = \"Hello. How are you?\"\n",
    "sentences = sent_tokenize(text)\n",
    "print(sentences)"
   ]
  },
  {
   "cell_type": "markdown",
   "id": "cdbf4651",
   "metadata": {},
   "source": [
    "## Whitespace Tokenization"
   ]
  },
  {
   "cell_type": "code",
   "execution_count": 5,
   "id": "66afa4c9",
   "metadata": {},
   "outputs": [
    {
     "name": "stdout",
     "output_type": "stream",
     "text": [
      "['This', 'is', 'a', 'test']\n"
     ]
    }
   ],
   "source": [
    "text = \"This is a test\"\n",
    "tokens = text.split()\n",
    "print(tokens)"
   ]
  },
  {
   "cell_type": "markdown",
   "id": "0654222e",
   "metadata": {},
   "source": [
    "## Regex Tokenization"
   ]
  },
  {
   "cell_type": "code",
   "execution_count": 6,
   "id": "4bfd031f",
   "metadata": {},
   "outputs": [
    {
     "name": "stdout",
     "output_type": "stream",
     "text": [
      "['This', 'is', 'a', 'text', 'With', 'punctuation']\n"
     ]
    }
   ],
   "source": [
    "import re\n",
    "\n",
    "text = \"This is a, text! With punctuation.\"\n",
    "tokens = re.findall(r'\\b\\w+\\b', text)    #\\b is for removing punctuations n just recognizing text from the setences\n",
    "print(tokens)"
   ]
  },
  {
   "cell_type": "markdown",
   "id": "466334a9",
   "metadata": {},
   "source": [
    "## Custom Tokenization"
   ]
  },
  {
   "cell_type": "code",
   "execution_count": 8,
   "id": "755173ff",
   "metadata": {},
   "outputs": [
    {
     "name": "stdout",
     "output_type": "stream",
     "text": [
      "['Apples', 'Bananas:', 'Oranges']\n"
     ]
    }
   ],
   "source": [
    "text = \"Apples, Bananas: Oranges\"\n",
    "tokens = re.split(r'[;,\\s]',text)    #\\s is for space \n",
    "tokens = [token for token in tokens if token]   #Remove empty strings\n",
    "print(tokens)"
   ]
  },
  {
   "cell_type": "markdown",
   "id": "f35b40f4",
   "metadata": {},
   "source": [
    "## Treebank Tokenization"
   ]
  },
  {
   "cell_type": "code",
   "execution_count": 23,
   "id": "23d803ab",
   "metadata": {},
   "outputs": [
    {
     "name": "stdout",
     "output_type": "stream",
     "text": [
      "['I', 'ca', \"n't\", 'go', '.']\n"
     ]
    },
    {
     "name": "stderr",
     "output_type": "stream",
     "text": [
      "[nltk_data] Downloading package punkt to\n",
      "[nltk_data]     C:\\Users\\rajes\\AppData\\Roaming\\nltk_data...\n",
      "[nltk_data]   Package punkt is already up-to-date!\n"
     ]
    }
   ],
   "source": [
    "import nltk\n",
    "nltk.download('punkt')\n",
    "from nltk.tokenize.treebank import TreebankWordTokenizer\n",
    "\n",
    "tokenizer = TreebankWordTokenizer()\n",
    "tokens = tokenizer.tokenize(\"I can't go.\")\n",
    "print(tokens)"
   ]
  },
  {
   "cell_type": "code",
   "execution_count": null,
   "id": "71ad65a0",
   "metadata": {},
   "outputs": [],
   "source": []
  }
 ],
 "metadata": {
  "kernelspec": {
   "display_name": "Python 3 (ipykernel)",
   "language": "python",
   "name": "python3"
  },
  "language_info": {
   "codemirror_mode": {
    "name": "ipython",
    "version": 3
   },
   "file_extension": ".py",
   "mimetype": "text/x-python",
   "name": "python",
   "nbconvert_exporter": "python",
   "pygments_lexer": "ipython3",
   "version": "3.10.9"
  }
 },
 "nbformat": 4,
 "nbformat_minor": 5
}
